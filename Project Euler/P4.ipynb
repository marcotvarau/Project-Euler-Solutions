{
 "cells": [
  {
   "cell_type": "code",
   "execution_count": 11,
   "id": "1dee58b3",
   "metadata": {},
   "outputs": [
    {
     "data": {
      "text/plain": [
       "906609"
      ]
     },
     "execution_count": 11,
     "metadata": {},
     "output_type": "execute_result"
    }
   ],
   "source": [
    "\n",
    "def return_greater_palindrome(n):\n",
    "    maior = 0\n",
    "    for i in range(10**(n-1),10**n):\n",
    "        for j in range(10**(n-1),10**n):\n",
    "            num = i*j\n",
    "            if str(num) == str(num)[::-1] and num > maior:\n",
    "                maior = num\n",
    "    return maior\n",
    "\n",
    "return_greater_palindrome(3)"
   ]
  }
 ],
 "metadata": {
  "kernelspec": {
   "display_name": "Python 3 (ipykernel)",
   "language": "python",
   "name": "python3"
  },
  "language_info": {
   "codemirror_mode": {
    "name": "ipython",
    "version": 3
   },
   "file_extension": ".py",
   "mimetype": "text/x-python",
   "name": "python",
   "nbconvert_exporter": "python",
   "pygments_lexer": "ipython3",
   "version": "3.11.0"
  }
 },
 "nbformat": 4,
 "nbformat_minor": 5
}
