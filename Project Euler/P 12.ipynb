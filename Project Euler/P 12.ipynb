{
 "cells": [
  {
   "cell_type": "code",
   "execution_count": 29,
   "id": "899a98fa",
   "metadata": {},
   "outputs": [],
   "source": [
    "from numpy import sqrt\n",
    "def gen_nth_triangle_number(n):\n",
    "    return sum(range(1,n+1));\n",
    "\n",
    "from math import ceil,floor\n",
    "\n",
    "def divisors(n):\n",
    "    count = 0\n",
    "    for i in range(1, floor(sqrt(n)) + 1):\n",
    "        if n % i == 0:\n",
    "            count += 2  # i and n/i\n",
    "            if i*i == n:\n",
    "                count -= 1  # Correct for a perfect square\n",
    "    return count"
   ]
  },
  {
   "cell_type": "code",
   "execution_count": 30,
   "id": "7878c162",
   "metadata": {},
   "outputs": [
    {
     "data": {
      "text/plain": [
       "(28, 6)"
      ]
     },
     "execution_count": 30,
     "metadata": {},
     "output_type": "execute_result"
    }
   ],
   "source": [
    "gen_nth_triangle_number(7) , divisors(gen_nth_triangle_number(7))"
   ]
  },
  {
   "cell_type": "code",
   "execution_count": 33,
   "id": "44f1a416",
   "metadata": {},
   "outputs": [],
   "source": [
    "import time\n",
    "start_time = time.time()\n",
    "\n",
    "i=1\n",
    "tam = 0\n",
    "number_of_divisors= 0\n",
    "while number_of_divisors <= 500:\n",
    "    triagle_number = gen_nth_triangle_number(i)\n",
    "    number_of_divisors = divisors(triagle_number)\n",
    "    i+=1\n",
    "\n",
    "end_time = time.time()\n",
    "elapsed_time = end_time - start_time"
   ]
  },
  {
   "cell_type": "code",
   "execution_count": 34,
   "id": "e15e3469",
   "metadata": {},
   "outputs": [
    {
     "data": {
      "text/plain": [
       "(76576500, 576)"
      ]
     },
     "execution_count": 34,
     "metadata": {},
     "output_type": "execute_result"
    }
   ],
   "source": [
    "triagle_number,number_of_divisors"
   ]
  },
  {
   "cell_type": "code",
   "execution_count": 35,
   "id": "aade425d",
   "metadata": {},
   "outputs": [
    {
     "data": {
      "text/plain": [
       "3.4829843044281006"
      ]
     },
     "execution_count": 35,
     "metadata": {},
     "output_type": "execute_result"
    }
   ],
   "source": [
    "elapsed_time"
   ]
  },
  {
   "cell_type": "code",
   "execution_count": null,
   "id": "b65a4805",
   "metadata": {},
   "outputs": [],
   "source": []
  }
 ],
 "metadata": {
  "kernelspec": {
   "display_name": "Python 3 (ipykernel)",
   "language": "python",
   "name": "python3"
  },
  "language_info": {
   "codemirror_mode": {
    "name": "ipython",
    "version": 3
   },
   "file_extension": ".py",
   "mimetype": "text/x-python",
   "name": "python",
   "nbconvert_exporter": "python",
   "pygments_lexer": "ipython3",
   "version": "3.11.0"
  }
 },
 "nbformat": 4,
 "nbformat_minor": 5
}
