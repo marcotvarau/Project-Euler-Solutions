{
 "cells": [
  {
   "cell_type": "code",
   "execution_count": 4,
   "id": "a605c27f",
   "metadata": {},
   "outputs": [],
   "source": [
    "def fibonacci_sequence(n):\n",
    "    if n <= 0:\n",
    "        return []\n",
    "    elif n == 1:\n",
    "        return [1]\n",
    "    elif n == 2:\n",
    "        return [1, 1]\n",
    "\n",
    "    sequence = [1, 1]\n",
    "    while True:\n",
    "        next_value = sequence[-1] + sequence[-2]\n",
    "        if next_value > n:\n",
    "            break\n",
    "        sequence.append(next_value)\n",
    "\n",
    "    return sequence\n",
    "\n",
    "# Exemplo de uso da função\n",
    "max_number = 4*10**6\n",
    "fibo_list = fibonacci_sequence(max_number)"
   ]
  },
  {
   "cell_type": "code",
   "execution_count": 6,
   "id": "1a533367",
   "metadata": {},
   "outputs": [
    {
     "data": {
      "text/plain": [
       "4613732"
      ]
     },
     "execution_count": 6,
     "metadata": {},
     "output_type": "execute_result"
    }
   ],
   "source": [
    "soma = 0\n",
    "for num in fibo_list:\n",
    "    if num%2==0:\n",
    "        soma+=num\n",
    "soma"
   ]
  },
  {
   "cell_type": "code",
   "execution_count": null,
   "id": "b841eefc",
   "metadata": {},
   "outputs": [],
   "source": []
  }
 ],
 "metadata": {
  "kernelspec": {
   "display_name": "Python 3 (ipykernel)",
   "language": "python",
   "name": "python3"
  },
  "language_info": {
   "codemirror_mode": {
    "name": "ipython",
    "version": 3
   },
   "file_extension": ".py",
   "mimetype": "text/x-python",
   "name": "python",
   "nbconvert_exporter": "python",
   "pygments_lexer": "ipython3",
   "version": "3.11.0"
  }
 },
 "nbformat": 4,
 "nbformat_minor": 5
}
