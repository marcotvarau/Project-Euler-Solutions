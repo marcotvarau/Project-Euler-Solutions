{
 "cells": [
  {
   "cell_type": "code",
   "execution_count": 3,
   "id": "47043617",
   "metadata": {},
   "outputs": [],
   "source": [
    "def CollatzSequence(starting_num):\n",
    "    size = 1\n",
    "    Collatz = starting_num\n",
    "    while(Collatz != 1):\n",
    "        if Collatz%2 ==0 :\n",
    "            Collatz = int(Collatz/2)\n",
    "            size+=1\n",
    "        else:\n",
    "            Collatz = 3 * Collatz + 1\n",
    "            size+=1\n",
    "    return size, Collatz"
   ]
  },
  {
   "cell_type": "code",
   "execution_count": 10,
   "id": "e7237741",
   "metadata": {},
   "outputs": [],
   "source": [
    "maior = 0 \n",
    "i=1\n",
    "while(i<1000000):\n",
    "    if CollatzSequence(i) > maior:\n",
    "        maior, Collatz = CollatzSequence(i)\n",
    "        maior_\n",
    "    i+=1\n"
   ]
  },
  {
   "cell_type": "code",
   "execution_count": 9,
   "id": "4ba37b66",
   "metadata": {},
   "outputs": [
    {
     "data": {
      "text/plain": [
       "834162"
      ]
     },
     "execution_count": 9,
     "metadata": {},
     "output_type": "execute_result"
    }
   ],
   "source": [
    "i"
   ]
  },
  {
   "cell_type": "code",
   "execution_count": 11,
   "id": "aec065e2",
   "metadata": {},
   "outputs": [
    {
     "data": {
      "text/plain": [
       "525"
      ]
     },
     "execution_count": 11,
     "metadata": {},
     "output_type": "execute_result"
    }
   ],
   "source": [
    "maior"
   ]
  },
  {
   "cell_type": "code",
   "execution_count": null,
   "id": "e13968e3",
   "metadata": {},
   "outputs": [],
   "source": []
  }
 ],
 "metadata": {
  "kernelspec": {
   "display_name": "Python 3 (ipykernel)",
   "language": "python",
   "name": "python3"
  },
  "language_info": {
   "codemirror_mode": {
    "name": "ipython",
    "version": 3
   },
   "file_extension": ".py",
   "mimetype": "text/x-python",
   "name": "python",
   "nbconvert_exporter": "python",
   "pygments_lexer": "ipython3",
   "version": "3.11.0"
  }
 },
 "nbformat": 4,
 "nbformat_minor": 5
}
