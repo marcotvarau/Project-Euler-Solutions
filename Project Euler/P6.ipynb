{
 "cells": [
  {
   "cell_type": "code",
   "execution_count": 12,
   "id": "133cb169",
   "metadata": {},
   "outputs": [],
   "source": [
    "import numpy as np\n",
    "def soma_dos_quadrados(n):\n",
    "    return np.sum([i**2 for i in range(0,n+1)])\n",
    "def quadrado_da_soma(n):\n",
    "    return np.sum(list(range(0,n+1)))**2\n",
    "\n",
    "def diferenca(n):\n",
    "    return quadrado_da_soma(n) - soma_dos_quadrados(n)"
   ]
  },
  {
   "cell_type": "code",
   "execution_count": 14,
   "id": "987e1e64",
   "metadata": {},
   "outputs": [
    {
     "data": {
      "text/plain": [
       "25164150"
      ]
     },
     "execution_count": 14,
     "metadata": {},
     "output_type": "execute_result"
    }
   ],
   "source": [
    "diferenca(100)"
   ]
  }
 ],
 "metadata": {
  "kernelspec": {
   "display_name": "Python 3 (ipykernel)",
   "language": "python",
   "name": "python3"
  },
  "language_info": {
   "codemirror_mode": {
    "name": "ipython",
    "version": 3
   },
   "file_extension": ".py",
   "mimetype": "text/x-python",
   "name": "python",
   "nbconvert_exporter": "python",
   "pygments_lexer": "ipython3",
   "version": "3.11.0"
  }
 },
 "nbformat": 4,
 "nbformat_minor": 5
}
